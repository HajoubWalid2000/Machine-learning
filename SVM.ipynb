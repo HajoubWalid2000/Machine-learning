{
 "cells": [
  {
   "cell_type": "code",
   "execution_count": 2,
   "metadata": {},
   "outputs": [],
   "source": [
    "#library\n",
    "import numpy as np\n",
    "from sklearn.datasets import make_blobs\n",
    "import matplotlib.pyplot as plt\n",
    "from sklearn.model_selection import train_test_split"
   ]
  },
  {
   "cell_type": "code",
   "execution_count": 3,
   "metadata": {},
   "outputs": [],
   "source": [
    "#generer datasets\n",
    "x , y = make_blobs(n_samples=1000 , n_features=2 , centers=2 , random_state=0)\n",
    "\n",
    "# SVM works with -1 and 1 lables this is why we convert [0,1] to [-1,1]\n",
    "y = np.where(y==0 , -1 , 1)\n",
    "\n",
    "#split data\n",
    "x_train , x_test , y_train , y_test = train_test_split(x , y , test_size=0.25)\n"
   ]
  },
  {
   "cell_type": "code",
   "execution_count": 4,
   "metadata": {},
   "outputs": [],
   "source": [
    "# generer parametre \n",
    "def initParameters(x):\n",
    "       w = np.random.randn(x.shape[1])\n",
    "       b = np.random.randn(1)\n",
    "       return w , b"
   ]
  },
  {
   "cell_type": "code",
   "execution_count": 5,
   "metadata": {},
   "outputs": [],
   "source": [
    "def gradient(xi,yi,w,condition,lambda_parameter):\n",
    "        if condition :\n",
    "            dw = 2 * lambda_parameter * w\n",
    "            db = 0\n",
    "            return dw , db\n",
    "        else :\n",
    "            dw = 2 * lambda_parameter * w - np.dot(xi , yi)\n",
    "            db = yi\n",
    "            return dw , db"
   ]
  },
  {
   "cell_type": "code",
   "execution_count": 6,
   "metadata": {},
   "outputs": [],
   "source": [
    "def train(x_train,y_train,lambda_parameter=0.01,nbr_iteration=1000,learning_rate=0.01):\n",
    "\n",
    "    w,b = initParameters(x_train)\n",
    "    for i in range(nbr_iteration):\n",
    "        for index , xi in enumerate(x_train):\n",
    "            condition = y_train[index] * (np.dot(xi ,w) -  b ) >= 1\n",
    "            dw , db = gradient(xi, y_train[index],w, condition,lambda_parameter)\n",
    "            #Update The Weights and The Bias\n",
    "            w -= learning_rate * dw\n",
    "            b -= learning_rate * db\n",
    "    return w,b"
   ]
  },
  {
   "cell_type": "code",
   "execution_count": 7,
   "metadata": {},
   "outputs": [],
   "source": [
    "def predict(x,w,b):\n",
    "        y_hat = np.dot(x ,  w) -  b\n",
    "        return np.sign(y_hat)"
   ]
  },
  {
   "cell_type": "code",
   "execution_count": 8,
   "metadata": {},
   "outputs": [],
   "source": [
    "def displayTheModel(x,y,w,b):\n",
    "        fig , ax = plt.subplots()\n",
    "        ax.scatter(x[:,0][y==1] , x[:,1][y==1] , marker='o')\n",
    "        ax.scatter(x[:,0][y==-1] , x[:,1][y==-1] , marker='+')\n",
    "        \n",
    "        x0_min = np.amin(x[:,0])\n",
    "        x0_max = np.amax(x[:,0])\n",
    "        \n",
    "        x1_x_for_separator = (-w[0] * x0_min + b + 0 ) / w[1]\n",
    "        x1_y_for_separator = (-w[0] * x0_max + b + 0 ) /  w[1]\n",
    "\n",
    "        x1_x_for_class1 = (- w[0] * x0_min +  b -1 ) /  w[1]\n",
    "        x1_y_for_class1 = (- w[0] * x0_max +  b -1 ) /  w[1]\n",
    "\n",
    "        x1_x_for_class2 = (- w[0] * x0_min +  b + 1 ) /  w[1]\n",
    "        x1_y_for_class2 = (- w[0] * x0_max +  b + 1 ) /  w[1]\n",
    "        \n",
    "        ax.plot([x0_min , x0_max] , [x1_x_for_separator , x1_y_for_separator] , \"red\")\n",
    "        ax.plot([x0_min , x0_max] , [x1_x_for_class1 , x1_y_for_class1] , \"black\")\n",
    "        ax.plot([x0_min , x0_max] , [x1_x_for_class2 , x1_y_for_class2] , \"black\")\n",
    "        \n",
    "        x1_min = np.amin(x[:, 1])\n",
    "        x1_max = np.amax(x[:, 1])\n",
    "        ax.set_ylim([x1_min - 3, x1_max + 3])\n",
    "        \n",
    "        plt.show()\n",
    "    # Function to get The Accuracy of The Model    \n",
    "def getAccuarcy( y_true , y_pred):\n",
    "    return np.sum(y_true == y_pred) / len(y_true)"
   ]
  },
  {
   "cell_type": "code",
   "execution_count": 9,
   "metadata": {},
   "outputs": [
    {
     "data": {
      "image/png": "[encoded data removed]",
      "text/plain": [
       "<Figure size 432x288 with 1 Axes>"
      ]
     },
     "metadata": {
      "needs_background": "light"
     },
     "output_type": "display_data"
    },
    {
     "name": "stdout",
     "output_type": "stream",
     "text": [
      "score est :  0.958\n"
     ]
    }
   ],
   "source": [
    "# tester\n",
    "w,b = train(x,y)\n",
    "displayTheModel(x,y,w,b)\n",
    "y_pred = predict(x,w,b)\n",
    "score = getAccuarcy(y,y_pred)\n",
    "print('score est : ',score)"
   ]
  },
  {
   "cell_type": "code",
   "execution_count": 10,
   "metadata": {},
   "outputs": [
    {
     "name": "stdout",
     "output_type": "stream",
     "text": [
      "Model Accuracy : 0.92 % .\n"
     ]
    }
   ],
   "source": [
    "\n",
    "import numpy as np \n",
    "from sklearn.datasets import make_blobs \n",
    "from sklearn.model_selection import train_test_split \n",
    "from sklearn.svm import SVC\n",
    "x, y = make_blobs (n_samples=100 , n_features=2, centers=2 , random_state=0)\n",
    "y = np.where(y==0, -1, 1) \n",
    "x_train , x_test , y_train , y_test = train_test_split(x, y, test_size=0.25) \n",
    "SVM_Classifier = SVC(); \n",
    "SVM_Classifier.fit(x_train, y_train) \n",
    "y_pred = SVM_Classifier.predict(x_test) \n",
    "accuarcy = np.sum(y_pred == y_test) / len(y_test) \n",
    "print(f\"Model Accuracy : {accuarcy} % .\")\n"
   ]
  },
  {
   "cell_type": "code",
   "execution_count": 12,
   "metadata": {},
   "outputs": [
    {
     "data": {
      "image/png": "[encoded data removed]",
      "text/plain": [
       "<Figure size 432x288 with 1 Axes>"
      ]
     },
     "metadata": {
      "needs_background": "light"
     },
     "output_type": "display_data"
    },
    {
     "name": "stdout",
     "output_type": "stream",
     "text": [
      "score est :  0.7398945518453427\n"
     ]
    }
   ],
   "source": [
    "from sklearn.datasets import load_breast_cancer\n",
    "\n",
    "\n",
    "\n",
    "dataset = load_breast_cancer()\n",
    "x,y = np.array(dataset.data), np.array(dataset.target)\n",
    "y = np.where(y==0, -1, 1)\n",
    "\n",
    "\n",
    "w,b = train(x,y,0.01,1000,0.001)\n",
    "displayTheModel(x,y,w,b)\n",
    "y_pred = predict(x,w,b)\n",
    "score = getAccuarcy(y,y_pred)\n",
    "print('score est : ',score)"
   ]
  }
 ],
 "metadata": {
  "kernelspec": {
   "display_name": "Python 3 (ipykernel)",
   "language": "python",
   "name": "python3"
  },
  "language_info": {
   "codemirror_mode": {
    "name": "ipython",
    "version": 3
   },
   "file_extension": ".py",
   "mimetype": "text/x-python",
   "name": "python",
   "nbconvert_exporter": "python",
   "pygments_lexer": "ipython3",
   "version": "3.9.12"
  },
  "vscode": {
   "interpreter": {
    "hash": "b683bd4b87c8b16609ac9a3ef3aab015b96a8503b853fa71d3fe1e7ebcd29d95"
   }
  }
 },
 "nbformat": 4,
 "nbformat_minor": 2
}
